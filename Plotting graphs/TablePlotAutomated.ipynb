{
 "cells": [
  {
   "cell_type": "code",
   "execution_count": 197,
   "metadata": {
    "collapsed": true
   },
   "outputs": [],
   "source": [
    "import pandas as pd\n",
    "import json\n",
    "from pylab import *\n",
    "import matplotlib.pyplot as plt\n",
    "\n",
    "from numpy import ma\n",
    "import plotly\n",
    "import plotly.plotly as py\n",
    "\n",
    "import random\n",
    "import pickle"
   ]
  },
  {
   "cell_type": "markdown",
   "metadata": {},
   "source": [
    "## Main Function that plots the diagram"
   ]
  },
  {
   "cell_type": "code",
   "execution_count": 198,
   "metadata": {
    "collapsed": true
   },
   "outputs": [],
   "source": [
    "# Sankey Diagram Function to plot the diagram\n",
    "def genSankey(df,cat_cols=[],value_cols='',title='Bug Type Plot'):\n",
    "    \n",
    "    labelList = []\n",
    "    for catCol in cat_cols:\n",
    "        labelListTemp =  list(set(df[catCol].values))\n",
    "        labelList = labelList + labelListTemp\n",
    "        \n",
    "    # remove duplicates from labelList\n",
    "    labelList = list(dict.fromkeys(labelList))\n",
    "        \n",
    "    # transform df into a source-target pair\n",
    "    for i in range(len(cat_cols)-1):\n",
    "        if i==0:\n",
    "            sourceTargetDf = df[[cat_cols[i],cat_cols[i+1],value_cols]]\n",
    "            sourceTargetDf.columns = ['source','target','count']\n",
    "        else:\n",
    "            tempDf = df[[cat_cols[i],cat_cols[i+1],value_cols]]\n",
    "            tempDf.columns = ['source','target','count']\n",
    "            sourceTargetDf = pd.concat([sourceTargetDf,tempDf])\n",
    "        sourceTargetDf = sourceTargetDf.groupby(['source','target']).agg({'count':'sum'}).reset_index()\n",
    "        \n",
    "    # add index for source-target pair\n",
    "    sourceTargetDf['sourceID'] = sourceTargetDf['source'].apply(lambda x: labelList.index(x))\n",
    "    sourceTargetDf['targetID'] = sourceTargetDf['target'].apply(lambda x: labelList.index(x))\n",
    "    \n",
    "    # creating the sankey diagram\n",
    "    data = dict(\n",
    "        type='sankey',\n",
    "        node = dict(\n",
    "          pad = 15,\n",
    "          thickness = 20,\n",
    "          line = dict(\n",
    "            color = \"black\",\n",
    "            width = 0.5\n",
    "          ),\n",
    "          label = labelList,\n",
    "          color = df['node_color']\n",
    "        ),\n",
    "        link = dict(\n",
    "          source = sourceTargetDf['sourceID'],\n",
    "          target = sourceTargetDf['targetID'],\n",
    "          value = sourceTargetDf['count']\n",
    "        )\n",
    "      )\n",
    "    \n",
    "    layout =  dict(\n",
    "        title = title,\n",
    "        font = dict(\n",
    "          size = 15\n",
    "        )\n",
    "    )\n",
    "       \n",
    "    fig = dict(data=[data], layout=layout)\n",
    "    return fig"
   ]
  },
  {
   "cell_type": "markdown",
   "metadata": {},
   "source": [
    "## Creating the Dataframe mappings"
   ]
  },
  {
   "cell_type": "code",
   "execution_count": 199,
   "metadata": {
    "collapsed": true
   },
   "outputs": [],
   "source": [
    "globalDF = pd.DataFrame()\n",
    "d_mapping = {}\n",
    "countDict = {}"
   ]
  },
  {
   "cell_type": "code",
   "execution_count": 200,
   "metadata": {
    "collapsed": true
   },
   "outputs": [],
   "source": [
    "# Function to create the dataframe as an input for Bug-Type Diagram\n",
    "def addNamedStructure(globalDF, d_mapping, countDict, namedStructure):\n",
    "    df = pd.read_json('outlier_'+namedStructure+'.json', orient='split')\n",
    "    uniqueDeviantProperties = {}\n",
    "    for i in range(len(df)):\n",
    "        for prop in df.deviant_properties[i]:\n",
    "            if prop[0] not in uniqueDeviantProperties:\n",
    "                uniqueDeviantProperties[prop[0]] = 0\n",
    "            uniqueDeviantProperties[prop[0]] += 1\n",
    "    d_namedStructure = {}\n",
    "    d_namedStructure[namedStructure] = []\n",
    "    for prop, count in uniqueDeviantProperties.items():\n",
    "        d_namedStructure[namedStructure].append(prop)\n",
    "        countDict[prop] = count\n",
    "    df_net = pd.DataFrame(list(d_namedStructure.items()), columns=['col1', 'col2'])\n",
    "    df_net = df_net.explode('col2')\n",
    "    df_net = df_net.reset_index(drop=True)\n",
    "    \n",
    "    with open('globalReference.pickle', 'rb') as handle:\n",
    "        d = pickle.load(handle)\n",
    "    \n",
    "    for prop in d_namedStructure[namedStructure]:\n",
    "        if prop in d:\n",
    "            d_mapping[prop] = d[prop]\n",
    "        else:\n",
    "            print(\"'{}' Property not in Global File. Add it manually.\".format(prop))\n",
    "    \n",
    "    globalDF = pd.concat([globalDF, df_net])\n",
    "    \n",
    "    return globalDF, d_mapping, countDict"
   ]
  },
  {
   "cell_type": "code",
   "execution_count": 205,
   "metadata": {
    "scrolled": true
   },
   "outputs": [],
   "source": [
    "# Calling the addNamedStructure function to create the dataframe by specifying the \"namedStructure\"\n",
    "globalDF, d_mapping, countDict = addNamedStructure(globalDF, d_mapping, countDict, \"IP_Access_List\")\n",
    "globalDF, d_mapping, countDict = addNamedStructure(globalDF, d_mapping, countDict, \"Route_Filter_List\")\n",
    "globalDF, d_mapping, countDict = addNamedStructure(globalDF, d_mapping, countDict, \"Routing_Policy\")\n",
    "globalDF, d_mapping, countDict = addNamedStructure(globalDF, d_mapping, countDict, \"VRF\")"
   ]
  },
  {
   "cell_type": "code",
   "execution_count": 202,
   "metadata": {
    "collapsed": true
   },
   "outputs": [],
   "source": [
    "# Creating one dataframe with all the mappings for Bug Type Plot\n",
    "df_plot = pd.DataFrame(list(d_mapping.items()), columns=['col1', 'col2'])\n",
    "countArr = []\n",
    "for prop in df_plot['col1']:\n",
    "    countArr.append(countDict[prop])\n",
    "df_plot['count'] = countArr\n",
    "df_plot = df_plot.explode('col2')\n",
    "df_plot = df_plot.reset_index(drop=True)\n",
    "df_com = pd.merge(df_plot, globalDF, left_on='col1', right_on='col2')\n",
    "df_com = df_com.drop(['col2_y'], axis=1)\n",
    "df_com.columns = ['property', 'bugType', 'count', 'namedStructure']\n",
    "color_arr = []\n",
    "for _ in range(len(df_com)):\n",
    "    r = lambda: random.randint(64,255)\n",
    "    color = '#{:02x}{:02x}{:02x}'.format(r(), r(), r())\n",
    "    color_arr.append(color)\n",
    "df_com['node_color'] = color_arr"
   ]
  },
  {
   "cell_type": "markdown",
   "metadata": {},
   "source": [
    "## Calling the Ploting Function to plot the Diagram"
   ]
  },
  {
   "cell_type": "code",
   "execution_count": 203,
   "metadata": {},
   "outputs": [
    {
     "data": {
      "text/plain": [
       "'file:///Users/astitvnagpal/Desktop/tool/temp-plot.html'"
      ]
     },
     "execution_count": 203,
     "metadata": {},
     "output_type": "execute_result"
    }
   ],
   "source": [
    "# Calling the getSankey function to plot the Bug-Type Diagram\n",
    "fig = genSankey(df_com, cat_cols=['namedStructure', 'property', 'bugType'], value_cols='count',title='Types of Bugs')\n",
    "plotly.offline.plot(fig, validate=False)"
   ]
  },
  {
   "cell_type": "markdown",
   "metadata": {},
   "source": [
    "## Helper Code for Reference"
   ]
  },
  {
   "cell_type": "code",
   "execution_count": null,
   "metadata": {
    "collapsed": true
   },
   "outputs": [],
   "source": [
    "## Few Helper Functions\n",
    "\n",
    "## Reading the global reference file\n",
    "# with open('globalReference.pickle', 'rb') as handle:\n",
    "#     d = pickle.load(handle)\n",
    "\n",
    "## Writing the global reference file\n",
    "# with open('globalReference.pickle', 'wb') as handle:\n",
    "#     pickle.dump(d, handle)\n",
    "\n",
    "## Saving the dataframe as a json file\n",
    "# df_com.to_json('filename.json')\n",
    "\n",
    "## Reading the json file as a dataframe\n",
    "# df = pd.read_json('campus-anon-mixed-vnet2.json')"
   ]
  },
  {
   "cell_type": "markdown",
   "metadata": {},
   "source": [
    "# End"
   ]
  },
  {
   "cell_type": "code",
   "execution_count": null,
   "metadata": {
    "collapsed": true
   },
   "outputs": [],
   "source": []
  }
 ],
 "metadata": {
  "kernelspec": {
   "display_name": "Python 3",
   "language": "python",
   "name": "python3"
  },
  "language_info": {
   "codemirror_mode": {
    "name": "ipython",
    "version": 3
   },
   "file_extension": ".py",
   "mimetype": "text/x-python",
   "name": "python",
   "nbconvert_exporter": "python",
   "pygments_lexer": "ipython3",
   "version": "3.6.3"
  }
 },
 "nbformat": 4,
 "nbformat_minor": 2
}
